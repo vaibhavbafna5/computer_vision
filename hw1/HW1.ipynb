{
 "cells": [
  {
   "cell_type": "code",
   "execution_count": 1,
   "metadata": {},
   "outputs": [],
   "source": [
    "# Utilities for EECS 442 Winter 2020 HW1\n",
    "# Part of the code is based on the Dolly Zoom notebook created by David Fouhey\n",
    "import imageio\n",
    "import matplotlib.pyplot as plt\n",
    "from itertools import product\n",
    "import numpy as np\n",
    "\n",
    "\n",
    "def generate_gif(R, file_name='cube.gif'):\n",
    "    \"\"\"\n",
    "    Generate a gif of a rotating cube from a list of rotation matrices.\n",
    "\n",
    "    Input:  R: A list of 3x3 rotation matrices.\n",
    "            file_name: file_name to save files to.\n",
    "    Output: None\n",
    "    \"\"\"\n",
    "    with imageio.get_writer(file_name, mode='I') as writer:\n",
    "        for rot in R:\n",
    "            fig = renderCube(f=15, t=(0, 0, 3), R=rot)\n",
    "            # Now we can save it to a numpy array.\n",
    "            fig.canvas.draw()\n",
    "            img = np.fromstring(fig.canvas.tostring_rgb(),\n",
    "                                dtype=np.uint8,\n",
    "                                sep='')\n",
    "            img = img.reshape(fig.canvas.get_width_height()[::-1] + (3, ))\n",
    "            writer.append_data(img)\n",
    "\n",
    "\n",
    "def renderCube(f=15,\n",
    "               scaleFToSize=None,\n",
    "               t=np.array([0, 0, -3]),\n",
    "               R=np.eye(3),\n",
    "               file_name=None):\n",
    "    \"\"\"\n",
    "    Renders a cube given camera instrinsics and extrinsics.\n",
    "\n",
    "    Input:  f: focal length\n",
    "            scaleFToSize: target size on the retrina (sqrt of area)\n",
    "            t: camera translation (3x1 numpy array)\n",
    "            R: camera rotation (3x3 numpy array)\n",
    "            file_name: file path to save image (if provided)\n",
    "\n",
    "    Output: Matplotlib figure handle\n",
    "    \"\"\"\n",
    "    # Render the cube\n",
    "    L = generateCube()\n",
    "    t = np.array(t)\n",
    "    pL = projectLines(f, R, t, L)\n",
    "\n",
    "    if scaleFToSize is not None:\n",
    "        # Then adjust f so that the image is the right size\n",
    "        xRange, yRange = xyrange(pL)\n",
    "        geoMean = (xRange * yRange)**0.5\n",
    "        f = (f / geoMean) * scaleFToSize\n",
    "        # re-render with the right focal length\n",
    "        pL = projectLines(f, R, t, L)\n",
    "\n",
    "    # Generate plot\n",
    "    fig = plt.figure()\n",
    "    plt.title(\"Cube @ [x=%.1f y=%.1f z=%.1f] f=%f\" % (t[0], t[1], t[2], f))\n",
    "    for i in range(pL.shape[0]):\n",
    "        u1, v1, u2, v2 = pL[i, :]\n",
    "        plt.plot((u1, u2), (v1, v2), lineWidth=2)\n",
    "\n",
    "    # Format plot\n",
    "    plt.axis('square')\n",
    "    plt.xlim(-5, 5)\n",
    "    plt.ylim(-5, 5)\n",
    "\n",
    "    # Save to file if filename is provided\n",
    "    if file_name:\n",
    "        plt.savefig(file_name)\n",
    "\n",
    "    return fig\n",
    "\n",
    "\n",
    "def generateCube():\n",
    "    \"\"\"\n",
    "    Generates the lines for a unit cube.\n",
    "    Output: np array of lines.\n",
    "    \"\"\"\n",
    "    lines = []\n",
    "    for x, y, z in product([0, 1], [0, 1], [0, 1]):\n",
    "        # all corners, check changing all the dirensions\n",
    "        # if in the cube, keep, but then center at 0\n",
    "        for dx, dy, dz in [(1, 0, 0), (-1, 0, 0), (0, 1, 0), (0, -1, 0),\n",
    "                           (0, 0, 1), (0, 0, -1)]:\n",
    "            xp, yp, zp = x + dx, y + dy, z + dz\n",
    "            if min([xp, yp, zp]) >= 0 and max([xp, yp, zp]) <= 1:\n",
    "                lines.append(\n",
    "                    (x - 0.5, y - 0.5, z - 0.5, xp - 0.5, yp - 0.5, zp - 0.5))\n",
    "    return np.vstack(lines)\n",
    "\n",
    "\n",
    "def xyrange(pL):\n",
    "    # Returns the X and Y ranges for a line\n",
    "    X, Y = np.vstack([pL[:, 0], pL[:, 2]]), np.vstack([pL[:, 1], pL[:, 3]])\n",
    "    return np.max(X) - np.min(X), np.max(Y) - np.min(Y)\n",
    "\n",
    "\n",
    "def projectOthographicLines(R, t, L):\n",
    "    # TODO: Rewrite this function to project lines with an orthographic camera\n",
    "    # You may refer to projectLines() for parameter types\n",
    "    raise NotImplementedError\n",
    "\n",
    "\n",
    "def projectLines(f, R, t, L):\n",
    "    \"\"\"\n",
    "    Projects lines using the camera intrinsic and extrinsic parameters.\n",
    "    Input:  f: focal length\n",
    "            R: camera rotation (3x3 numpy array)\n",
    "            t: camera translation (3x1 numpy array)\n",
    "            L: Nx6 numpy array depicting N lines in 3D\n",
    "    Output: 2D projection of lines (Nx4 numpy array)\n",
    "    \"\"\"\n",
    "    if f == np.inf:\n",
    "        return projectOthographicLines(R, t, L)\n",
    "    pL = np.zeros((L.shape[0], 4))\n",
    "    for i in range(L.shape[0]):\n",
    "        # rotate and translate\n",
    "        p = np.dot(R, L[i, :3]) + t\n",
    "        pp = np.dot(R, L[i, 3:]) + t\n",
    "        # apply projection u = x*f/z; v = y*f/z\n",
    "        print(\"p: {}    pp: {}\".format(p[2], pp[2]))\n",
    "        pL[i, :2] = p[0] * f / p[2], p[1] * f / p[2]\n",
    "        pL[i, 2:] = pp[0] * f / pp[2], pp[1] * f / pp[2]\n",
    "\n",
    "    return np.vstack(pL)\n"
   ]
  },
  {
   "cell_type": "markdown",
   "metadata": {},
   "source": [
    "<h1>Part 1"
   ]
  },
  {
   "cell_type": "code",
   "execution_count": 2,
   "metadata": {},
   "outputs": [],
   "source": [
    "import math\n",
    "def rotX(theta):\n",
    "    # calculate values\n",
    "    cos_value = math.cos(theta)\n",
    "    sin_value = math.sin(theta)\n",
    "    neg_sin_value = -1 * sin_value\n",
    "    \n",
    "    # initialize rotation matrix\n",
    "    x_rot_matrix = np.eye(3)\n",
    "    \n",
    "    # set cosine values\n",
    "    x_rot_matrix[1][1] = cos_value\n",
    "    x_rot_matrix[2][2] = cos_value\n",
    "    \n",
    "    # set sin values\n",
    "    x_rot_matrix[1][2] = neg_sin_value\n",
    "    x_rot_matrix[2][1] = sin_value\n",
    "    \n",
    "    return x_rot_matrix\n",
    "    "
   ]
  },
  {
   "cell_type": "code",
   "execution_count": 3,
   "metadata": {},
   "outputs": [],
   "source": [
    "def rotY(theta):\n",
    "    # calculate values\n",
    "    cos_value = math.cos(theta)\n",
    "    sin_value = math.sin(theta)\n",
    "    neg_sin_value = -1 * sin_value\n",
    "    \n",
    "    # initialize rotation matrix\n",
    "    y_rot_matrix = np.eye(3)\n",
    "    \n",
    "    # set cosine values\n",
    "    y_rot_matrix[0][0] = cos_value\n",
    "    y_rot_matrix[2][2] = cos_value\n",
    "    \n",
    "    # set sin values\n",
    "    y_rot_matrix[2][0] = neg_sin_value\n",
    "    y_rot_matrix[0][2] = sin_value\n",
    "    \n",
    "    return y_rot_matrix"
   ]
  },
  {
   "cell_type": "code",
   "execution_count": 4,
   "metadata": {},
   "outputs": [],
   "source": [
    "rot = 0\n",
    "R = []\n",
    "while rot != math.pi * 2:\n",
    "    rot += math.pi / 4\n",
    "    R.append(rotY(rot))"
   ]
  },
  {
   "cell_type": "code",
   "execution_count": 5,
   "metadata": {},
   "outputs": [],
   "source": [
    "take_1 = [rotX(math.pi/4), rotY(math.pi/4)]\n",
    "take_2 = [rotY(math.pi/4), rotX(math.pi/4)]"
   ]
  },
  {
   "cell_type": "code",
   "execution_count": 6,
   "metadata": {},
   "outputs": [],
   "source": [
    "# generate_gif(take_1, file_name='take_1.gif')"
   ]
  },
  {
   "cell_type": "code",
   "execution_count": 7,
   "metadata": {},
   "outputs": [],
   "source": [
    "# renderCube(R=rotX(math.pi/6).dot(rotY(math.pi/4)), file_name='1c')"
   ]
  },
  {
   "cell_type": "code",
   "execution_count": 8,
   "metadata": {},
   "outputs": [
    {
     "data": {
      "text/plain": [
       "array([[0., 0., 0., 0.],\n",
       "       [0., 0., 0., 0.],\n",
       "       [0., 0., 0., 0.]])"
      ]
     },
     "execution_count": 8,
     "metadata": {},
     "output_type": "execute_result"
    }
   ],
   "source": [
    "np.zeros((3, 4))"
   ]
  },
  {
   "cell_type": "code",
   "execution_count": 9,
   "metadata": {},
   "outputs": [],
   "source": [
    "img = imageio.imread('prokudin-gorskii/00125v.jpg')"
   ]
  },
  {
   "cell_type": "code",
   "execution_count": 10,
   "metadata": {},
   "outputs": [
    {
     "data": {
      "text/plain": [
       "(1024, 400)"
      ]
     },
     "execution_count": 10,
     "metadata": {},
     "output_type": "execute_result"
    }
   ],
   "source": [
    "img.shape"
   ]
  },
  {
   "cell_type": "markdown",
   "metadata": {},
   "source": [
    "<h2>Part 2"
   ]
  },
  {
   "cell_type": "markdown",
   "metadata": {},
   "source": [
    "<h3>Combine"
   ]
  },
  {
   "cell_type": "code",
   "execution_count": 11,
   "metadata": {},
   "outputs": [],
   "source": [
    "def split_triptych(trip):\n",
    "    # TODO: Split a triptych into thirds and return three channels in numpy arrays\n",
    "    img = imageio.imread('prokudin-gorskii/00125v.jpg')\n",
    "    height = int(img.shape[0] / 3)\n",
    "    width = img.shape[1]\n",
    "\n",
    "    img_1 = img[0:height][0:width]\n",
    "    img_2 = img[height: 2 * height][0:width]\n",
    "    img_3 = img[2 * height: 3 * height][0:width]\n",
    "\n",
    "    stacked_imgs = [img_3, img_2, img_1]\n",
    "    stacked_img = np.dstack(stacked_imgs)\n",
    "\n",
    "    imageio.imsave('combined.jpg', stacked_img)\n",
    "    return stacked_img"
   ]
  },
  {
   "cell_type": "code",
   "execution_count": 12,
   "metadata": {},
   "outputs": [],
   "source": [
    "height = int(img.shape[0] / 3)\n",
    "width = img.shape[1]\n",
    "\n",
    "img_1 = img[0:height][0:width]\n",
    "img_2 = img[height: 2 * height][0:width]\n",
    "img_3 = img[2 * height: 3 * height][0:width]"
   ]
  },
  {
   "cell_type": "code",
   "execution_count": 13,
   "metadata": {},
   "outputs": [],
   "source": [
    "stacked_imgs = [img_3, img_2, img_1]"
   ]
  },
  {
   "cell_type": "code",
   "execution_count": 14,
   "metadata": {},
   "outputs": [],
   "source": [
    "stacked_img = np.dstack(stacked_imgs)"
   ]
  },
  {
   "cell_type": "code",
   "execution_count": 15,
   "metadata": {},
   "outputs": [],
   "source": [
    "imageio.imsave('combined.jpg', stacked_img)"
   ]
  },
  {
   "cell_type": "code",
   "execution_count": 16,
   "metadata": {},
   "outputs": [
    {
     "data": {
      "text/plain": [
       "numpy.ndarray"
      ]
     },
     "execution_count": 16,
     "metadata": {},
     "output_type": "execute_result"
    }
   ],
   "source": [
    "type(stacked_img)"
   ]
  },
  {
   "cell_type": "markdown",
   "metadata": {},
   "source": [
    "<h3>Alignment"
   ]
  },
  {
   "cell_type": "code",
   "execution_count": 17,
   "metadata": {},
   "outputs": [],
   "source": [
    "def align_and_combine(R, G, B, metric):\n",
    "    # TODO: Use metric to align three channels and return the combined RGB image\n",
    "    r = R\n",
    "    g = G\n",
    "    b = B\n",
    "\n",
    "    b_r = best_offset(R, B, metric)\n",
    "    g_r = best_offset(R, G, metric)\n",
    "\n",
    "    print(\"b_r:\", b_r)\n",
    "    b = np.roll(b, b_r, axis=(0, 1))\n",
    "    g = np.roll(g, g_r, axis=(0, 1))\n",
    "\n",
    "    col = np.dstack([r, g, b])\n",
    "\n",
    "    return col"
   ]
  },
  {
   "cell_type": "code",
   "execution_count": 18,
   "metadata": {},
   "outputs": [],
   "source": [
    "def normalized_cross_correlation(p1, p2):\n",
    "    product = np.mean((p1 - p1.mean()) * (p2 - p2.mean()))\n",
    "    std = p1.std() * p2.std()\n",
    "    if std != 0:\n",
    "        res = product / std\n",
    "        return res\n",
    "    else:\n",
    "        return 0"
   ]
  },
  {
   "cell_type": "code",
   "execution_count": 23,
   "metadata": {},
   "outputs": [],
   "source": [
    "def best_offset(ch1, ch2, metric, Xrange=np.arange(-15, 16), Yrange=np.arange(-15, 16)):\n",
    "    \n",
    "    best_offset = -1\n",
    "    out = []\n",
    "    \n",
    "    for x in Xrange:\n",
    "        for y in Yrange:\n",
    "            curr_offset = metric(ch1, np.roll(ch2, [x, y], axis=(0, 1)))\n",
    "            if curr_offset > best_offset:\n",
    "                best_offset = curr_offset\n",
    "                out = [x, y]\n",
    "            \n",
    "    return out"
   ]
  },
  {
   "cell_type": "code",
   "execution_count": 24,
   "metadata": {},
   "outputs": [],
   "source": [
    "data = {\n",
    "    \"prokudin-gorskii/00125v.jpg\": {\n",
    "        'y_start': 28,\n",
    "        'y_offset': 330,\n",
    "        'x_start': 28,\n",
    "        'x_offset': 388\n",
    "    },\n",
    "    \"prokudin-gorskii/00149v.jpg\": {\n",
    "        'y_start': 12,\n",
    "        'y_offset': 330,\n",
    "        'x_start': 28,\n",
    "        'x_offset': 387\n",
    "    },\n",
    "    \"prokudin-gorskii/00153v.jpg\": {\n",
    "        'y_start': 12,\n",
    "        'y_offset': 334,\n",
    "        'x_start': 26,\n",
    "        'x_offset': 380\n",
    "    },\n",
    "    \"prokudin-gorskii/00351v.jpg\": {\n",
    "        'y_start': 15,\n",
    "        'y_offset': 334,\n",
    "        'x_start': 25,\n",
    "        'x_offset': 378,\n",
    "    },\n",
    "    \"prokudin-gorskii/00398v.jpg\": {\n",
    "        'y_start': 26,\n",
    "        'y_offset': 332,\n",
    "        'x_start': 15,\n",
    "        'x_offset': 378,\n",
    "    },\n",
    "    \"prokudin-gorskii/01112v.jpg\": {\n",
    "        'y_start': 15,\n",
    "        'y_offset': 332,\n",
    "        'x_start': 14,\n",
    "        'x_offset': 378,\n",
    "    },\n",
    "    \"tableau/efros_tableau.jpg\": {\n",
    "        'y_start': 0,\n",
    "        'y_offset': 418,\n",
    "        'x_start': 0,\n",
    "        'x_offset': 505,\n",
    "    }\n",
    "}"
   ]
  },
  {
   "cell_type": "code",
   "execution_count": 25,
   "metadata": {},
   "outputs": [],
   "source": [
    "def split_triptych_augmented(trip, img_data):\n",
    "    \n",
    "    y_start = img_data['y_start']\n",
    "    y_offset = img_data['y_offset']\n",
    "    x_start = img_data['x_start']\n",
    "    x_offset = img_data['x_offset']\n",
    "    \n",
    "    stacks = []\n",
    "    \n",
    "    for i in range(0, 3):\n",
    "        img_slice = trip[y_start: y_start + y_offset, x_start: x_start + x_offset]\n",
    "        stacks.insert(0, img_slice)\n",
    "        y_start += y_offset\n",
    "        \n",
    "    colored = np.dstack(stacks)\n",
    "    return colored"
   ]
  },
  {
   "cell_type": "code",
   "execution_count": 26,
   "metadata": {},
   "outputs": [
    {
     "name": "stdout",
     "output_type": "stream",
     "text": [
      "prokudin-gorskii/00125v.jpg\n",
      "b_r: [12, 1]\n",
      "prokudin-gorskii/00149v.jpg\n",
      "b_r: [13, 0]\n",
      "prokudin-gorskii/00153v.jpg\n",
      "b_r: [0, -3]\n",
      "prokudin-gorskii/00351v.jpg\n",
      "b_r: [1, 0]\n",
      "prokudin-gorskii/00398v.jpg\n",
      "b_r: [6, 1]\n",
      "prokudin-gorskii/01112v.jpg\n",
      "b_r: [13, -1]\n",
      "tableau/efros_tableau.jpg\n",
      "b_r: [6, 5]\n"
     ]
    }
   ],
   "source": [
    "i = 0\n",
    "for file in data:\n",
    "    img = imageio.imread(file)\n",
    "    img_data = data[file]\n",
    "    split_img = split_triptych_augmented(img, img_data)\n",
    "    print(file)\n",
    "    \n",
    "    r = split_img[:, :, 0]\n",
    "    g = split_img[:, :, 1]\n",
    "    b = split_img[:, :, 2]\n",
    "\n",
    "    col_align_img = align_and_combine(r, g, b, normalized_cross_correlation)\n",
    "    new_file_name = \"colored_\" + str(i) + \".png\"\n",
    "    imageio.imsave(new_file_name, col_align_img)\n",
    "    \n",
    "    i += 1"
   ]
  },
  {
   "cell_type": "markdown",
   "metadata": {},
   "source": [
    "<h3>Offsets"
   ]
  },
  {
   "cell_type": "code",
   "execution_count": 44,
   "metadata": {},
   "outputs": [
    {
     "name": "stdout",
     "output_type": "stream",
     "text": [
      "(418, 505)\n",
      "(418, 505)\n",
      "(418, 505)\n"
     ]
    },
    {
     "data": {
      "text/plain": [
       "(418, 418)"
      ]
     },
     "execution_count": 44,
     "metadata": {},
     "output_type": "execute_result"
    }
   ],
   "source": [
    "from skimage.transform import rescale, resize, downscale_local_mean\n",
    "import matplotlib.pyplot as plt\n",
    "\n",
    "test_file = 'prokudin-gorskii/00125v.jpg'\n",
    "image = imageio.imread(test_file)\n",
    "split_img = split_triptych_augmented(img, img_data)\n",
    "    \n",
    "r = split_img[:, :, 0]\n",
    "g = split_img[:, :, 1]\n",
    "b = split_img[:, :, 2]\n",
    "\n",
    "print(r.shape)\n",
    "print(g.shape)\n",
    "print(b.shape)\n",
    "\n",
    "dum = r[:, 44:-43]\n",
    "dum.shape"
   ]
  },
  {
   "cell_type": "markdown",
   "metadata": {},
   "source": [
    "<h1> Part 3"
   ]
  },
  {
   "cell_type": "code",
   "execution_count": 45,
   "metadata": {},
   "outputs": [
    {
     "data": {
      "image/png": "[encoded data removed]",
      "text/plain": [
       "<Figure size 432x288 with 12 Axes>"
      ]
     },
     "metadata": {
      "needs_background": "light"
     },
     "output_type": "display_data"
    }
   ],
   "source": [
    "_, ax = plt.subplots(4, 3)\n",
    "\n",
    "ax[0][0].imshow(inside_pic[:,:, 0], cmap=\"gray\", vmin=0, vmax=255)\n",
    "ax[0][1].imshow(inside_pic[:,:, 1], cmap=\"gray\", vmin=0, vmax=255)\n",
    "ax[0][2].imshow(inside_pic[:,:, 2], cmap=\"gray\", vmin=0, vmax=255)\n",
    "\n",
    "ax[1][0].imshow(outside_pic[:,:, 0], cmap=\"gray\", vmin=0, vmax=255)\n",
    "ax[1][1].imshow(outside_pic[:,:, 1], cmap=\"gray\", vmin=0, vmax=255)\n",
    "ax[1][2].imshow(outside_pic[:,:, 2], cmap=\"gray\", vmin=0, vmax=255)\n",
    "\n",
    "new_inside_pic = rgb2lab(inside_pic[:,:, :3])\n",
    "new_outside_pic = rgb2lab(outside_pic[:,:, :3])\n",
    "\n",
    "ax[2][0].imshow(new_inside_pic[:,:, 0], cmap=\"gray\", vmin=0, vmax=100)\n",
    "ax[2][1].imshow(new_inside_pic[:,:, 1], cmap=\"gray\", vmin=-128, vmax=127)\n",
    "ax[2][2].imshow(new_inside_pic[:,:, 2], cmap=\"gray\", vmin=-128, vmax=127)\n",
    "\n",
    "ax[3][0].imshow(new_outside_pic[:,:, 0], cmap=\"gray\", vmin=0, vmax=100)\n",
    "ax[3][1].imshow(new_outside_pic[:,:, 1], cmap=\"gray\", vmin=-128, vmax=127)\n",
    "ax[3][2].imshow(new_outside_pic[:,:, 2], cmap=\"gray\", vmin=-128, vmax=127)\n",
    "\n",
    "plt.show()"
   ]
  },
  {
   "cell_type": "code",
   "execution_count": 59,
   "metadata": {},
   "outputs": [
    {
     "name": "stderr",
     "output_type": "stream",
     "text": [
      "Lossy conversion from float64 to uint8. Range [0, 1]. Convert image to uint8 prior to saving to suppress this warning.\n",
      "Lossy conversion from float64 to uint8. Range [0, 1]. Convert image to uint8 prior to saving to suppress this warning.\n"
     ]
    },
    {
     "data": {
      "image/png": "[encoded data removed]",
      "text/plain": [
       "<Figure size 432x288 with 1 Axes>"
      ]
     },
     "metadata": {
      "needs_background": "light"
     },
     "output_type": "display_data"
    }
   ],
   "source": [
    "img1 = imageio.imread('im1.jpg')\n",
    "img2 = imageio.imread('im2.jpg')\n",
    "\n",
    "x = resize(img1, (256, 256))\n",
    "plt.imshow(x[128:160, 128:160])\n",
    "\n",
    "y = resize(img2, (256, 256))\n",
    "plt.imshow(y[128:160, 128:160])\n",
    "\n",
    "new_img1 = x[128:160, 128:160]\n",
    "new_img2 = y[128:160, 128:160]\n",
    "\n",
    "imageio.imsave('im1_final.jpg', x)\n",
    "imageio.imsave('im2_final.jpg', y)"
   ]
  },
  {
   "cell_type": "code",
   "execution_count": 55,
   "metadata": {},
   "outputs": [
    {
     "data": {
      "text/plain": [
       "<matplotlib.image.AxesImage at 0x119b2d978>"
      ]
     },
     "execution_count": 55,
     "metadata": {},
     "output_type": "execute_result"
    },
    {
     "data": {
      "image/png": "[encoded data removed]",
      "text/plain": [
       "<Figure size 432x288 with 1 Axes>"
      ]
     },
     "metadata": {
      "needs_background": "light"
     },
     "output_type": "display_data"
    }
   ],
   "source": [
    "img2 = imageio.imread('im2.jpg')\n",
    "\n",
    "y = resize(img2, (256, 256))\n",
    "plt.imshow(y)"
   ]
  },
  {
   "cell_type": "code",
   "execution_count": 56,
   "metadata": {},
   "outputs": [
    {
     "data": {
      "text/plain": [
       "<matplotlib.image.AxesImage at 0x126889cc0>"
      ]
     },
     "execution_count": 56,
     "metadata": {},
     "output_type": "execute_result"
    },
    {
     "data": {
      "image/png": "[encoded data removed]",
      "text/plain": [
       "<Figure size 432x288 with 1 Axes>"
      ]
     },
     "metadata": {
      "needs_background": "light"
     },
     "output_type": "display_data"
    }
   ],
   "source": [
    "plt.imshow(y[128:160, 128:160])"
   ]
  },
  {
   "cell_type": "code",
   "execution_count": null,
   "metadata": {},
   "outputs": [],
   "source": []
  }
 ],
 "metadata": {
  "kernelspec": {
   "display_name": "Python 3",
   "language": "python",
   "name": "python3"
  },
  "language_info": {
   "codemirror_mode": {
    "name": "ipython",
    "version": 3
   },
   "file_extension": ".py",
   "mimetype": "text/x-python",
   "name": "python",
   "nbconvert_exporter": "python",
   "pygments_lexer": "ipython3",
   "version": "3.6.9"
  }
 },
 "nbformat": 4,
 "nbformat_minor": 4
}
