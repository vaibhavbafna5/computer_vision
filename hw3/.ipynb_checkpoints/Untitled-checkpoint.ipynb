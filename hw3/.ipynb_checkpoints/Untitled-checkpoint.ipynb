{
 "cells": [
  {
   "cell_type": "code",
   "execution_count": 1,
   "metadata": {},
   "outputs": [],
   "source": [
    "def homography_transform(X, H):\n",
    "    # Perform homography transformation on a set of points X\n",
    "    # using homography matrix H\n",
    "    #\n",
    "    # Input - a set of 2D points in an array with size (N,2)\n",
    "    #         a 3*3 homography matrix\n",
    "    # Output - a set of 2D points in an array with size (N,2)\n",
    "    \n",
    "    correspondence = X\n",
    "    p1 = np.transpose(np.matrix([correspondence[0], correspondence[1], 1]))\n",
    "    estimatep2 = np.dot(h, p1)\n",
    "    estimatep2 = (1/estimatep2.item(2))*estimatep2\n",
    "    return estimatep2\n",
    "\n",
    "#     Y = None\n",
    "#     return Y\n",
    "\n",
    "\n",
    "def fit_homography(XY):\n",
    "    # Given two set of points X, Y in one array,\n",
    "    # fit a homography matrix from X to Y\n",
    "    #\n",
    "    # Input - an array with size(N,4), each row contains two\n",
    "    #         points in the form[x^T_i,y^T_i]1×4\n",
    "    # Output - a 3*3 homography matrix\n",
    "    \n",
    "    a_list = []\n",
    "    for corr in XY:\n",
    "        p1 = np.matrix([corr.item(0), corr.item(1), 1])\n",
    "        p2 = np.matrix([corr.item(2), corr.item(3), 1])\n",
    "        a2 = [0, 0, 0, -p2.item(2) * p1.item(0), -p2.item(2) * p1.item(1), -p2.item(2) * p1.item(2),\n",
    "              p2.item(1) * p1.item(0), p2.item(1) * p1.item(1), p2.item(1) * p1.item(2)]\n",
    "        a1 = [-p2.item(2) * p1.item(0), -p2.item(2) * p1.item(1), -p2.item(2) * p1.item(2), 0, 0, 0,\n",
    "              p2.item(0) * p1.item(0), p2.item(0) * p1.item(1), p2.item(0) * p1.item(2)]\n",
    "        a_list.append(a1)\n",
    "        a_list.append(a2)\n",
    "        \n",
    "    matrix_a = np.matrix(a_list)\n",
    "    \n",
    "    u, s, v = np.linalg.svd(matrix_a)\n",
    "    \n",
    "    H = np.reshape(v[8], (3, 3))\n",
    "    \n",
    "    H = (1/h.item(8)) * h\n",
    "    \n",
    "    return H"
   ]
  },
  {
   "cell_type": "code",
   "execution_count": 2,
   "metadata": {},
   "outputs": [],
   "source": [
    "def calculateHomography(correspondences):\n",
    "    #loop through correspondences and create assemble matrix\n",
    "    aList = []\n",
    "    for corr in correspondences:\n",
    "        p1 = np.matrix([corr.item(0), corr.item(1), 1])\n",
    "        p2 = np.matrix([corr.item(2), corr.item(3), 1])\n",
    "\n",
    "        a2 = [0, 0, 0, -p2.item(2) * p1.item(0), -p2.item(2) * p1.item(1), -p2.item(2) * p1.item(2),\n",
    "              p2.item(1) * p1.item(0), p2.item(1) * p1.item(1), p2.item(1) * p1.item(2)]\n",
    "        a1 = [-p2.item(2) * p1.item(0), -p2.item(2) * p1.item(1), -p2.item(2) * p1.item(2), 0, 0, 0,\n",
    "              p2.item(0) * p1.item(0), p2.item(0) * p1.item(1), p2.item(0) * p1.item(2)]\n",
    "        aList.append(a1)\n",
    "        aList.append(a2)\n",
    "\n",
    "    matrixA = np.matrix(aList)\n",
    "\n",
    "    #svd composition\n",
    "    u, s, v = np.linalg.svd(matrixA)\n",
    "\n",
    "    #reshape the min singular value into a 3 by 3 matrix\n",
    "    h = np.reshape(v[8], (3, 3))\n",
    "\n",
    "    #normalize and now we have h\n",
    "    h = (1/h.item(8)) * h\n",
    "    return h"
   ]
  },
  {
   "cell_type": "code",
   "execution_count": null,
   "metadata": {},
   "outputs": [],
   "source": [
    "case = 8  # you will encounter 8 different transformations\n",
    "for i in range(case):\n",
    "    XY = np.load('p1/points_case_'+str(i)+'.npy')\n",
    "    # 1. generate your Homography matrix H using X and Y\n",
    "    #\n",
    "    #    specifically: fill function fit_homography()\n",
    "    #    such that H = fit_homography(XY)\n",
    "    H = calculateHomography(XY)\n",
    "    # 2. Report H in your report\n",
    "    print(H)\n",
    "    # 3. Transform the points using H\n",
    "    #\n",
    "    #    specifically: fill function homography_transform\n",
    "    #    such that Y_H = homography_transform(X, H)\n",
    "    Y_H = homography_transform(XY[:, :2], H)\n",
    "    # 4. Visualize points as three images in one figure\n",
    "    # the following code plot figure for you\n",
    "    plt.scatter(XY[:, 1], XY[:, 0], c=\"red\")  # X\n",
    "    plt.scatter(XY[:, 3], XY[:, 2], c=\"green\")  # Y\n",
    "    plt.scatter(Y_H[:, 1], Y_H[:, 0], c=\"blue\")  # Y_hat\n",
    "    plt.savefig('./case_'+str(i))\n",
    "    plt.close()"
   ]
  },
  {
   "cell_type": "code",
   "execution_count": null,
   "metadata": {},
   "outputs": [],
   "source": [
    "def fit_homography_2(correspondence, h):\n",
    "    p1 = np.transpose(np.matrix([correspondence[0], correspondence[1], 1]))\n",
    "    estimatep2 = np.dot(h, p1)\n",
    "    estimatep2 = (1/estimatep2.item(2))*estimatep2\n",
    "    return estimatep2"
   ]
  },
  {
   "cell_type": "code",
   "execution_count": null,
   "metadata": {},
   "outputs": [],
   "source": [
    "def calculateError(actual, transformed):\n",
    "    p2 = np.transpose(np.matrix([actual[2], actual[3], 1]))\n",
    "    error = p2 - transformed\n",
    "    return np.linalg.norm(error)"
   ]
  },
  {
   "cell_type": "code",
   "execution_count": 3,
   "metadata": {},
   "outputs": [
    {
     "ename": "NameError",
     "evalue": "name 'res' is not defined",
     "output_type": "error",
     "traceback": [
      "\u001b[0;31m---------------------------------------------------------------------------\u001b[0m",
      "\u001b[0;31mNameError\u001b[0m                                 Traceback (most recent call last)",
      "\u001b[0;32m<ipython-input-3-95af1d5cceb4>\u001b[0m in \u001b[0;36m<module>\u001b[0;34m\u001b[0m\n\u001b[1;32m      3\u001b[0m \u001b[0;34m\u001b[0m\u001b[0m\n\u001b[1;32m      4\u001b[0m \u001b[0mpts_list\u001b[0m \u001b[0;34m=\u001b[0m \u001b[0;34m[\u001b[0m\u001b[0;34m]\u001b[0m\u001b[0;34m\u001b[0m\u001b[0;34m\u001b[0m\u001b[0m\n\u001b[0;32m----> 5\u001b[0;31m \u001b[0;32mfor\u001b[0m \u001b[0mdist\u001b[0m \u001b[0;32min\u001b[0m \u001b[0mres\u001b[0m\u001b[0;34m:\u001b[0m\u001b[0;34m\u001b[0m\u001b[0;34m\u001b[0m\u001b[0m\n\u001b[0m\u001b[1;32m      6\u001b[0m     \u001b[0;34m(\u001b[0m\u001b[0mx1\u001b[0m\u001b[0;34m,\u001b[0m \u001b[0my1\u001b[0m\u001b[0;34m)\u001b[0m \u001b[0;34m=\u001b[0m \u001b[0mleft_kp\u001b[0m\u001b[0;34m[\u001b[0m\u001b[0mdist\u001b[0m\u001b[0;34m[\u001b[0m\u001b[0;36m0\u001b[0m\u001b[0;34m]\u001b[0m\u001b[0;34m]\u001b[0m\u001b[0;34m.\u001b[0m\u001b[0mpt\u001b[0m\u001b[0;34m\u001b[0m\u001b[0;34m\u001b[0m\u001b[0m\n\u001b[1;32m      7\u001b[0m     \u001b[0;34m(\u001b[0m\u001b[0mx2\u001b[0m\u001b[0;34m,\u001b[0m \u001b[0my2\u001b[0m\u001b[0;34m)\u001b[0m \u001b[0;34m=\u001b[0m \u001b[0mright_kp\u001b[0m\u001b[0;34m[\u001b[0m\u001b[0mdist\u001b[0m\u001b[0;34m[\u001b[0m\u001b[0;36m1\u001b[0m\u001b[0;34m]\u001b[0m\u001b[0;34m]\u001b[0m\u001b[0;34m.\u001b[0m\u001b[0mpt\u001b[0m\u001b[0;34m\u001b[0m\u001b[0;34m\u001b[0m\u001b[0m\n",
      "\u001b[0;31mNameError\u001b[0m: name 'res' is not defined"
     ]
    }
   ],
   "source": [
    "# find two random points\n",
    "import random\n",
    "\n",
    "pts_list = []\n",
    "for dist in res:\n",
    "    (x1, y1) = left_kp[dist[0]].pt\n",
    "    (x2, y2) = right_kp[dist[1]].pt\n",
    "    pts_list.append([x1, y1, x2, y2])"
   ]
  },
  {
   "cell_type": "code",
   "execution_count": null,
   "metadata": {},
   "outputs": [],
   "source": [
    "max_inliers = []\n",
    "final_H = None\n",
    "little_h = None\n",
    "random_pts = None\n",
    "inliers = []\n",
    "\n",
    "for i in range(12000):\n",
    "    entry1 = pts_list[random.randrange(0, len(pts_list))]\n",
    "    entry2 = pts_list[random.randrange(0, len(pts_list))]\n",
    "    random_pts = np.vstack((entry1, entry2))\n",
    "    \n",
    "    entry3 = pts_list[random.randrange(0, len(pts_list))]\n",
    "    random_pts = np.vstack((random_pts, entry3))\n",
    "    \n",
    "    entry4 = pts_list[random.randrange(0, len(pts_list))]\n",
    "    random_pts = np.vstack((random_pts, entry4))\n",
    "    \n",
    "    little_h = calculateHomography(random_pts)\n",
    "    inliers = []\n",
    "    \n",
    "    for i in range(len(pts_list)):\n",
    "        actual = pts_list[i]\n",
    "        transformed = fit_homography_2(actual, little_h)\n",
    "        d = calculateError(actual, transformed)\n",
    "        \n",
    "        if d < 5:\n",
    "            inliers.append(actual)\n",
    "            \n",
    "    if len(inliers) > len(max_inliers):\n",
    "        max_inliers = inliers\n",
    "        final_H = little_h\n",
    "    \n",
    "    if len(max_inliers) > (len(pts_list) * 0.50):\n",
    "        break"
   ]
  }
 ],
 "metadata": {
  "kernelspec": {
   "display_name": "Python 3",
   "language": "python",
   "name": "python3"
  },
  "language_info": {
   "codemirror_mode": {
    "name": "ipython",
    "version": 3
   },
   "file_extension": ".py",
   "mimetype": "text/x-python",
   "name": "python",
   "nbconvert_exporter": "python",
   "pygments_lexer": "ipython3",
   "version": "3.6.9"
  }
 },
 "nbformat": 4,
 "nbformat_minor": 4
}
