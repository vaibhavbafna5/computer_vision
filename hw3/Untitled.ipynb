{
 "cells": [
  {
   "cell_type": "code",
   "execution_count": 3,
   "metadata": {},
   "outputs": [
    {
     "ename": "NameError",
     "evalue": "name 'res' is not defined",
     "output_type": "error",
     "traceback": [
      "\u001b[0;31m---------------------------------------------------------------------------\u001b[0m",
      "\u001b[0;31mNameError\u001b[0m                                 Traceback (most recent call last)",
      "\u001b[0;32m<ipython-input-3-95af1d5cceb4>\u001b[0m in \u001b[0;36m<module>\u001b[0;34m\u001b[0m\n\u001b[1;32m      3\u001b[0m \u001b[0;34m\u001b[0m\u001b[0m\n\u001b[1;32m      4\u001b[0m \u001b[0mpts_list\u001b[0m \u001b[0;34m=\u001b[0m \u001b[0;34m[\u001b[0m\u001b[0;34m]\u001b[0m\u001b[0;34m\u001b[0m\u001b[0;34m\u001b[0m\u001b[0m\n\u001b[0;32m----> 5\u001b[0;31m \u001b[0;32mfor\u001b[0m \u001b[0mdist\u001b[0m \u001b[0;32min\u001b[0m \u001b[0mres\u001b[0m\u001b[0;34m:\u001b[0m\u001b[0;34m\u001b[0m\u001b[0;34m\u001b[0m\u001b[0m\n\u001b[0m\u001b[1;32m      6\u001b[0m     \u001b[0;34m(\u001b[0m\u001b[0mx1\u001b[0m\u001b[0;34m,\u001b[0m \u001b[0my1\u001b[0m\u001b[0;34m)\u001b[0m \u001b[0;34m=\u001b[0m \u001b[0mleft_kp\u001b[0m\u001b[0;34m[\u001b[0m\u001b[0mdist\u001b[0m\u001b[0;34m[\u001b[0m\u001b[0;36m0\u001b[0m\u001b[0;34m]\u001b[0m\u001b[0;34m]\u001b[0m\u001b[0;34m.\u001b[0m\u001b[0mpt\u001b[0m\u001b[0;34m\u001b[0m\u001b[0;34m\u001b[0m\u001b[0m\n\u001b[1;32m      7\u001b[0m     \u001b[0;34m(\u001b[0m\u001b[0mx2\u001b[0m\u001b[0;34m,\u001b[0m \u001b[0my2\u001b[0m\u001b[0;34m)\u001b[0m \u001b[0;34m=\u001b[0m \u001b[0mright_kp\u001b[0m\u001b[0;34m[\u001b[0m\u001b[0mdist\u001b[0m\u001b[0;34m[\u001b[0m\u001b[0;36m1\u001b[0m\u001b[0;34m]\u001b[0m\u001b[0;34m]\u001b[0m\u001b[0;34m.\u001b[0m\u001b[0mpt\u001b[0m\u001b[0;34m\u001b[0m\u001b[0;34m\u001b[0m\u001b[0m\n",
      "\u001b[0;31mNameError\u001b[0m: name 'res' is not defined"
     ]
    }
   ],
   "source": [
    "# find two random points\n",
    "import random\n",
    "\n",
    "pts_list = []\n",
    "for dist in res:\n",
    "    (x1, y1) = left_kp[dist[0]].pt\n",
    "    (x2, y2) = right_kp[dist[1]].pt\n",
    "    pts_list.append([x1, y1, x2, y2])"
   ]
  },
  {
   "cell_type": "code",
   "execution_count": null,
   "metadata": {},
   "outputs": [],
   "source": [
    "max_inliers = []\n",
    "final_H = None\n",
    "little_h = None\n",
    "random_pts = None\n",
    "inliers = []\n",
    "\n",
    "for i in range(12000):\n",
    "    entry1 = pts_list[random.randrange(0, len(pts_list))]\n",
    "    entry2 = pts_list[random.randrange(0, len(pts_list))]\n",
    "    random_pts = np.vstack((entry1, entry2))\n",
    "    \n",
    "    entry3 = pts_list[random.randrange(0, len(pts_list))]\n",
    "    random_pts = np.vstack((random_pts, entry3))\n",
    "    \n",
    "    entry4 = pts_list[random.randrange(0, len(pts_list))]\n",
    "    random_pts = np.vstack((random_pts, entry4))\n",
    "    \n",
    "    little_h = calculateHomography(random_pts)\n",
    "    inliers = []\n",
    "    \n",
    "    for i in range(len(pts_list)):\n",
    "        actual = pts_list[i]\n",
    "        transformed = fit_homography_2(actual, little_h)\n",
    "        d = calculateError(actual, transformed)\n",
    "        \n",
    "        if d < 5:\n",
    "            inliers.append(actual)\n",
    "            \n",
    "    if len(inliers) > len(max_inliers):\n",
    "        max_inliers = inliers\n",
    "        final_H = little_h\n",
    "    \n",
    "    if len(max_inliers) > (len(pts_list) * 0.50):\n",
    "        break"
   ]
  },
  {
   "cell_type": "code",
   "execution_count": 13,
   "metadata": {},
   "outputs": [
    {
     "data": {
      "text/plain": [
       "array([[0., 0., 0., 0., 0., 0., 0., 0., 0.],\n",
       "       [0., 0., 0., 0., 0., 0., 0., 0., 0.]])"
      ]
     },
     "execution_count": 13,
     "metadata": {},
     "output_type": "execute_result"
    }
   ],
   "source": [
    "N = 4\n",
    "np.zeros((2 * N, 9))"
   ]
  },
  {
   "cell_type": "code",
   "execution_count": 61,
   "metadata": {},
   "outputs": [],
   "source": [
    "def fit_homography_project(XY):\n",
    "    # Given two set of points X, Y in one array,\n",
    "    # fit a homography matrix from X to Y\n",
    "    #\n",
    "    # Input - an array with size(N,4), each row contains two\n",
    "    #         points in the form[x^T_i,y^T_i]1×4\n",
    "    # Output - a 3*3 homography matrix\n",
    "    \n",
    "    # initialize\n",
    "    N = XY.shape[0]\n",
    "    height = XY.shape[0] * 2\n",
    "    P = np.zeros((height, 9))\n",
    "    \n",
    "    p_vals = []\n",
    "    \n",
    "    for i in range(0, N):\n",
    "        row = XY[i]\n",
    "    \n",
    "        x1 = row[0]\n",
    "        y1 = row[1]\n",
    "        x1_prime = row[2]\n",
    "        y1_prime = row[3]\n",
    "        \n",
    "        p_vals.append(np.array([ -1 * x1, -1 * y1, -1, 0, 0, 0, x1 * x1_prime, y1 * x1_prime, x1_prime ]))\n",
    "        p_vals.append(np.array([ 0, 0, 0, -1 * x1, -1 * y1, -1, x1 * y1_prime, y1 * y1_prime, y1_prime ]))\n",
    "        \n",
    "    for j in range(0, 2 * N):\n",
    "        P[j] = p_vals[j]\n",
    "        \n",
    "    u, s, v = np.linalg.svd(P)\n",
    "    \n",
    "    H = np.reshape(v[8], (3, 3))\n",
    "    \n",
    "    H = (1/H.item(8)) * H\n",
    "    \n",
    "    return H"
   ]
  },
  {
   "cell_type": "code",
   "execution_count": 65,
   "metadata": {},
   "outputs": [],
   "source": [
    "def homography_transform(X, H):\n",
    "    x_vals = np.hstack((X, np.ones((len(X), 1))))\n",
    "    x_t = x_vals.T\n",
    "    return (np.dot(H, x_vals)[0:2, :]).T"
   ]
  },
  {
   "cell_type": "code",
   "execution_count": 66,
   "metadata": {},
   "outputs": [],
   "source": [
    "dummy = np.array([\n",
    "    [1, 2, 3, 4],\n",
    "    [1, 2, 3, 4],\n",
    "    [1, 2, 3, 4],\n",
    "    [1, 2, 3, 4],\n",
    "])"
   ]
  },
  {
   "cell_type": "code",
   "execution_count": 67,
   "metadata": {},
   "outputs": [],
   "source": [
    "clown = fit_homography_project(dummy)"
   ]
  },
  {
   "cell_type": "code",
   "execution_count": 68,
   "metadata": {},
   "outputs": [
    {
     "data": {
      "text/plain": [
       "array([[ 0. ,  0. ,  0. ],\n",
       "       [ 0. ,  0. ,  0. ],\n",
       "       [ 0. , -0.5,  1. ]])"
      ]
     },
     "execution_count": 68,
     "metadata": {},
     "output_type": "execute_result"
    }
   ],
   "source": [
    "clown"
   ]
  },
  {
   "cell_type": "code",
   "execution_count": null,
   "metadata": {},
   "outputs": [],
   "source": []
  }
 ],
 "metadata": {
  "kernelspec": {
   "display_name": "Python 3",
   "language": "python",
   "name": "python3"
  },
  "language_info": {
   "codemirror_mode": {
    "name": "ipython",
    "version": 3
   },
   "file_extension": ".py",
   "mimetype": "text/x-python",
   "name": "python",
   "nbconvert_exporter": "python",
   "pygments_lexer": "ipython3",
   "version": "3.6.9"
  }
 },
 "nbformat": 4,
 "nbformat_minor": 4
}
